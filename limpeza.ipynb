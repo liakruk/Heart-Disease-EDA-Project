{
 "cells": [
  {
   "cell_type": "markdown",
   "id": "94e98a25",
   "metadata": {},
   "source": [
    "## Limpeza e Tratamento dos Dados"
   ]
  },
  {
   "cell_type": "code",
   "execution_count": 77,
   "id": "11259877",
   "metadata": {},
   "outputs": [],
   "source": [
    "import pandas as pd\n",
    "import matplotlib.pyplot as plt\n",
    "import seaborn as sns\n",
    "import numpy as np"
   ]
  },
  {
   "cell_type": "markdown",
   "id": "67e86e65",
   "metadata": {},
   "source": [
    "Leitura do dataset e de suas primeiras cinco linhas para entender os dados"
   ]
  },
  {
   "cell_type": "code",
   "execution_count": 78,
   "id": "51c239ef",
   "metadata": {},
   "outputs": [
    {
     "data": {
      "text/html": [
       "<div>\n",
       "<style scoped>\n",
       "    .dataframe tbody tr th:only-of-type {\n",
       "        vertical-align: middle;\n",
       "    }\n",
       "\n",
       "    .dataframe tbody tr th {\n",
       "        vertical-align: top;\n",
       "    }\n",
       "\n",
       "    .dataframe thead th {\n",
       "        text-align: right;\n",
       "    }\n",
       "</style>\n",
       "<table border=\"1\" class=\"dataframe\">\n",
       "  <thead>\n",
       "    <tr style=\"text-align: right;\">\n",
       "      <th></th>\n",
       "      <th>id</th>\n",
       "      <th>age</th>\n",
       "      <th>sex</th>\n",
       "      <th>dataset</th>\n",
       "      <th>cp</th>\n",
       "      <th>trestbps</th>\n",
       "      <th>chol</th>\n",
       "      <th>fbs</th>\n",
       "      <th>restecg</th>\n",
       "      <th>thalch</th>\n",
       "      <th>exang</th>\n",
       "      <th>oldpeak</th>\n",
       "      <th>slope</th>\n",
       "      <th>ca</th>\n",
       "      <th>thal</th>\n",
       "      <th>num</th>\n",
       "    </tr>\n",
       "  </thead>\n",
       "  <tbody>\n",
       "    <tr>\n",
       "      <th>0</th>\n",
       "      <td>1</td>\n",
       "      <td>63</td>\n",
       "      <td>Male</td>\n",
       "      <td>Cleveland</td>\n",
       "      <td>typical angina</td>\n",
       "      <td>145.0</td>\n",
       "      <td>233.0</td>\n",
       "      <td>True</td>\n",
       "      <td>lv hypertrophy</td>\n",
       "      <td>150.0</td>\n",
       "      <td>False</td>\n",
       "      <td>2.3</td>\n",
       "      <td>downsloping</td>\n",
       "      <td>0.0</td>\n",
       "      <td>fixed defect</td>\n",
       "      <td>0</td>\n",
       "    </tr>\n",
       "    <tr>\n",
       "      <th>1</th>\n",
       "      <td>2</td>\n",
       "      <td>67</td>\n",
       "      <td>Male</td>\n",
       "      <td>Cleveland</td>\n",
       "      <td>asymptomatic</td>\n",
       "      <td>160.0</td>\n",
       "      <td>286.0</td>\n",
       "      <td>False</td>\n",
       "      <td>lv hypertrophy</td>\n",
       "      <td>108.0</td>\n",
       "      <td>True</td>\n",
       "      <td>1.5</td>\n",
       "      <td>flat</td>\n",
       "      <td>3.0</td>\n",
       "      <td>normal</td>\n",
       "      <td>2</td>\n",
       "    </tr>\n",
       "    <tr>\n",
       "      <th>2</th>\n",
       "      <td>3</td>\n",
       "      <td>67</td>\n",
       "      <td>Male</td>\n",
       "      <td>Cleveland</td>\n",
       "      <td>asymptomatic</td>\n",
       "      <td>120.0</td>\n",
       "      <td>229.0</td>\n",
       "      <td>False</td>\n",
       "      <td>lv hypertrophy</td>\n",
       "      <td>129.0</td>\n",
       "      <td>True</td>\n",
       "      <td>2.6</td>\n",
       "      <td>flat</td>\n",
       "      <td>2.0</td>\n",
       "      <td>reversable defect</td>\n",
       "      <td>1</td>\n",
       "    </tr>\n",
       "    <tr>\n",
       "      <th>3</th>\n",
       "      <td>4</td>\n",
       "      <td>37</td>\n",
       "      <td>Male</td>\n",
       "      <td>Cleveland</td>\n",
       "      <td>non-anginal</td>\n",
       "      <td>130.0</td>\n",
       "      <td>250.0</td>\n",
       "      <td>False</td>\n",
       "      <td>normal</td>\n",
       "      <td>187.0</td>\n",
       "      <td>False</td>\n",
       "      <td>3.5</td>\n",
       "      <td>downsloping</td>\n",
       "      <td>0.0</td>\n",
       "      <td>normal</td>\n",
       "      <td>0</td>\n",
       "    </tr>\n",
       "    <tr>\n",
       "      <th>4</th>\n",
       "      <td>5</td>\n",
       "      <td>41</td>\n",
       "      <td>Female</td>\n",
       "      <td>Cleveland</td>\n",
       "      <td>atypical angina</td>\n",
       "      <td>130.0</td>\n",
       "      <td>204.0</td>\n",
       "      <td>False</td>\n",
       "      <td>lv hypertrophy</td>\n",
       "      <td>172.0</td>\n",
       "      <td>False</td>\n",
       "      <td>1.4</td>\n",
       "      <td>upsloping</td>\n",
       "      <td>0.0</td>\n",
       "      <td>normal</td>\n",
       "      <td>0</td>\n",
       "    </tr>\n",
       "  </tbody>\n",
       "</table>\n",
       "</div>"
      ],
      "text/plain": [
       "   id  age     sex    dataset               cp  trestbps   chol    fbs  \\\n",
       "0   1   63    Male  Cleveland   typical angina     145.0  233.0   True   \n",
       "1   2   67    Male  Cleveland     asymptomatic     160.0  286.0  False   \n",
       "2   3   67    Male  Cleveland     asymptomatic     120.0  229.0  False   \n",
       "3   4   37    Male  Cleveland      non-anginal     130.0  250.0  False   \n",
       "4   5   41  Female  Cleveland  atypical angina     130.0  204.0  False   \n",
       "\n",
       "          restecg  thalch  exang  oldpeak        slope   ca  \\\n",
       "0  lv hypertrophy   150.0  False      2.3  downsloping  0.0   \n",
       "1  lv hypertrophy   108.0   True      1.5         flat  3.0   \n",
       "2  lv hypertrophy   129.0   True      2.6         flat  2.0   \n",
       "3          normal   187.0  False      3.5  downsloping  0.0   \n",
       "4  lv hypertrophy   172.0  False      1.4    upsloping  0.0   \n",
       "\n",
       "                thal  num  \n",
       "0       fixed defect    0  \n",
       "1             normal    2  \n",
       "2  reversable defect    1  \n",
       "3             normal    0  \n",
       "4             normal    0  "
      ]
     },
     "execution_count": 78,
     "metadata": {},
     "output_type": "execute_result"
    }
   ],
   "source": [
    "df = pd.read_csv(\"heart_disease_uci.csv\")\n",
    "df.head(5)"
   ]
  },
  {
   "cell_type": "markdown",
   "id": "5e08658b",
   "metadata": {},
   "source": [
    "Dropar a coluna 'ca' e a 'thal' que possui muitos valores nulos e não considero uma coluna tão relevante por enquanto"
   ]
  },
  {
   "cell_type": "code",
   "execution_count": 79,
   "id": "35323a58",
   "metadata": {},
   "outputs": [
    {
     "data": {
      "text/html": [
       "<div>\n",
       "<style scoped>\n",
       "    .dataframe tbody tr th:only-of-type {\n",
       "        vertical-align: middle;\n",
       "    }\n",
       "\n",
       "    .dataframe tbody tr th {\n",
       "        vertical-align: top;\n",
       "    }\n",
       "\n",
       "    .dataframe thead th {\n",
       "        text-align: right;\n",
       "    }\n",
       "</style>\n",
       "<table border=\"1\" class=\"dataframe\">\n",
       "  <thead>\n",
       "    <tr style=\"text-align: right;\">\n",
       "      <th></th>\n",
       "      <th>id</th>\n",
       "      <th>age</th>\n",
       "      <th>trestbps</th>\n",
       "      <th>chol</th>\n",
       "      <th>thalch</th>\n",
       "      <th>oldpeak</th>\n",
       "      <th>ca</th>\n",
       "      <th>num</th>\n",
       "    </tr>\n",
       "  </thead>\n",
       "  <tbody>\n",
       "    <tr>\n",
       "      <th>count</th>\n",
       "      <td>920.000000</td>\n",
       "      <td>920.000000</td>\n",
       "      <td>861.000000</td>\n",
       "      <td>890.000000</td>\n",
       "      <td>865.000000</td>\n",
       "      <td>858.000000</td>\n",
       "      <td>309.000000</td>\n",
       "      <td>920.000000</td>\n",
       "    </tr>\n",
       "    <tr>\n",
       "      <th>mean</th>\n",
       "      <td>460.500000</td>\n",
       "      <td>53.510870</td>\n",
       "      <td>132.132404</td>\n",
       "      <td>199.130337</td>\n",
       "      <td>137.545665</td>\n",
       "      <td>0.878788</td>\n",
       "      <td>0.676375</td>\n",
       "      <td>0.995652</td>\n",
       "    </tr>\n",
       "    <tr>\n",
       "      <th>std</th>\n",
       "      <td>265.725422</td>\n",
       "      <td>9.424685</td>\n",
       "      <td>19.066070</td>\n",
       "      <td>110.780810</td>\n",
       "      <td>25.926276</td>\n",
       "      <td>1.091226</td>\n",
       "      <td>0.935653</td>\n",
       "      <td>1.142693</td>\n",
       "    </tr>\n",
       "    <tr>\n",
       "      <th>min</th>\n",
       "      <td>1.000000</td>\n",
       "      <td>28.000000</td>\n",
       "      <td>0.000000</td>\n",
       "      <td>0.000000</td>\n",
       "      <td>60.000000</td>\n",
       "      <td>-2.600000</td>\n",
       "      <td>0.000000</td>\n",
       "      <td>0.000000</td>\n",
       "    </tr>\n",
       "    <tr>\n",
       "      <th>25%</th>\n",
       "      <td>230.750000</td>\n",
       "      <td>47.000000</td>\n",
       "      <td>120.000000</td>\n",
       "      <td>175.000000</td>\n",
       "      <td>120.000000</td>\n",
       "      <td>0.000000</td>\n",
       "      <td>0.000000</td>\n",
       "      <td>0.000000</td>\n",
       "    </tr>\n",
       "    <tr>\n",
       "      <th>50%</th>\n",
       "      <td>460.500000</td>\n",
       "      <td>54.000000</td>\n",
       "      <td>130.000000</td>\n",
       "      <td>223.000000</td>\n",
       "      <td>140.000000</td>\n",
       "      <td>0.500000</td>\n",
       "      <td>0.000000</td>\n",
       "      <td>1.000000</td>\n",
       "    </tr>\n",
       "    <tr>\n",
       "      <th>75%</th>\n",
       "      <td>690.250000</td>\n",
       "      <td>60.000000</td>\n",
       "      <td>140.000000</td>\n",
       "      <td>268.000000</td>\n",
       "      <td>157.000000</td>\n",
       "      <td>1.500000</td>\n",
       "      <td>1.000000</td>\n",
       "      <td>2.000000</td>\n",
       "    </tr>\n",
       "    <tr>\n",
       "      <th>max</th>\n",
       "      <td>920.000000</td>\n",
       "      <td>77.000000</td>\n",
       "      <td>200.000000</td>\n",
       "      <td>603.000000</td>\n",
       "      <td>202.000000</td>\n",
       "      <td>6.200000</td>\n",
       "      <td>3.000000</td>\n",
       "      <td>4.000000</td>\n",
       "    </tr>\n",
       "  </tbody>\n",
       "</table>\n",
       "</div>"
      ],
      "text/plain": [
       "               id         age    trestbps        chol      thalch     oldpeak  \\\n",
       "count  920.000000  920.000000  861.000000  890.000000  865.000000  858.000000   \n",
       "mean   460.500000   53.510870  132.132404  199.130337  137.545665    0.878788   \n",
       "std    265.725422    9.424685   19.066070  110.780810   25.926276    1.091226   \n",
       "min      1.000000   28.000000    0.000000    0.000000   60.000000   -2.600000   \n",
       "25%    230.750000   47.000000  120.000000  175.000000  120.000000    0.000000   \n",
       "50%    460.500000   54.000000  130.000000  223.000000  140.000000    0.500000   \n",
       "75%    690.250000   60.000000  140.000000  268.000000  157.000000    1.500000   \n",
       "max    920.000000   77.000000  200.000000  603.000000  202.000000    6.200000   \n",
       "\n",
       "               ca         num  \n",
       "count  309.000000  920.000000  \n",
       "mean     0.676375    0.995652  \n",
       "std      0.935653    1.142693  \n",
       "min      0.000000    0.000000  \n",
       "25%      0.000000    0.000000  \n",
       "50%      0.000000    1.000000  \n",
       "75%      1.000000    2.000000  \n",
       "max      3.000000    4.000000  "
      ]
     },
     "execution_count": 79,
     "metadata": {},
     "output_type": "execute_result"
    }
   ],
   "source": [
    "df.describe()"
   ]
  },
  {
   "cell_type": "code",
   "execution_count": 80,
   "id": "311e4347",
   "metadata": {},
   "outputs": [
    {
     "name": "stdout",
     "output_type": "stream",
     "text": [
      "<class 'pandas.core.frame.DataFrame'>\n",
      "RangeIndex: 920 entries, 0 to 919\n",
      "Data columns (total 16 columns):\n",
      " #   Column    Non-Null Count  Dtype  \n",
      "---  ------    --------------  -----  \n",
      " 0   id        920 non-null    int64  \n",
      " 1   age       920 non-null    int64  \n",
      " 2   sex       920 non-null    object \n",
      " 3   dataset   920 non-null    object \n",
      " 4   cp        920 non-null    object \n",
      " 5   trestbps  861 non-null    float64\n",
      " 6   chol      890 non-null    float64\n",
      " 7   fbs       830 non-null    object \n",
      " 8   restecg   918 non-null    object \n",
      " 9   thalch    865 non-null    float64\n",
      " 10  exang     865 non-null    object \n",
      " 11  oldpeak   858 non-null    float64\n",
      " 12  slope     611 non-null    object \n",
      " 13  ca        309 non-null    float64\n",
      " 14  thal      434 non-null    object \n",
      " 15  num       920 non-null    int64  \n",
      "dtypes: float64(5), int64(3), object(8)\n",
      "memory usage: 115.1+ KB\n"
     ]
    }
   ],
   "source": [
    "df.info()"
   ]
  },
  {
   "cell_type": "code",
   "execution_count": 97,
   "id": "5b5e99cf",
   "metadata": {},
   "outputs": [
    {
     "data": {
      "text/plain": [
       "13"
      ]
     },
     "execution_count": 97,
     "metadata": {},
     "output_type": "execute_result"
    }
   ],
   "source": [
    "df['trestbps'] = df['trestbps'].replace(0, np.nan)\n",
    "df['trestbps'] = df['trestbps'].replace(0, df['trestbps'].mean())\n",
    "(df['trestbps'] == 0).sum()\n",
    "df['chol'] = df['chol'].replace(0, np.nan)\n",
    "df['chol'] = df['chol'].replace(0, df['chol'].mean())\n",
    "(df['chol'] > 400).sum()"
   ]
  },
  {
   "cell_type": "code",
   "execution_count": 82,
   "id": "3a981c84",
   "metadata": {},
   "outputs": [
    {
     "data": {
      "text/plain": [
       "ca          0.664130\n",
       "thal        0.528261\n",
       "slope       0.335870\n",
       "chol        0.219565\n",
       "fbs         0.097826\n",
       "oldpeak     0.067391\n",
       "trestbps    0.065217\n",
       "thalch      0.059783\n",
       "exang       0.059783\n",
       "restecg     0.002174\n",
       "id          0.000000\n",
       "age         0.000000\n",
       "sex         0.000000\n",
       "dataset     0.000000\n",
       "cp          0.000000\n",
       "num         0.000000\n",
       "dtype: float64"
      ]
     },
     "execution_count": 82,
     "metadata": {},
     "output_type": "execute_result"
    }
   ],
   "source": [
    "df.isna().mean().sort_values(ascending=False)\n",
    "# Análise da limpa de dados"
   ]
  },
  {
   "cell_type": "code",
   "execution_count": 83,
   "id": "18e98edd",
   "metadata": {},
   "outputs": [],
   "source": [
    "df.drop(columns=['ca'], inplace=True)\n",
    "df.drop(columns=['thal'], inplace=True)"
   ]
  },
  {
   "cell_type": "markdown",
   "id": "e20e5e4a",
   "metadata": {},
   "source": [
    "Analisar se o dataset tem valores não únicos, ex: 'Female' e 'F'\n",
    "Análise de booleanos com: erro de digitação, categorias inesperadas ou outra inconsistência."
   ]
  },
  {
   "cell_type": "code",
   "execution_count": 84,
   "id": "c990ebc3",
   "metadata": {},
   "outputs": [
    {
     "name": "stdout",
     "output_type": "stream",
     "text": [
      "['Male' 'Female']\n",
      "['Cleveland' 'Hungary' 'Switzerland' 'VA Long Beach']\n",
      "['typical angina' 'asymptomatic' 'non-anginal' 'atypical angina']\n",
      "[False True nan]\n",
      "[True False nan]\n",
      "['lv hypertrophy' 'normal' 'st-t abnormality' nan]\n",
      "['downsloping' 'flat' 'upsloping' nan]\n"
     ]
    }
   ],
   "source": [
    "for i in ['sex', 'dataset', 'cp', 'exang', 'fbs', 'restecg', 'slope']: # ...\n",
    "    print(df[i].unique())"
   ]
  },
  {
   "cell_type": "code",
   "execution_count": 85,
   "id": "30cdcb4f",
   "metadata": {},
   "outputs": [
    {
     "name": "stderr",
     "output_type": "stream",
     "text": [
      "C:\\Users\\Julia\\AppData\\Local\\Temp\\ipykernel_18920\\2911446222.py:4: FutureWarning: A value is trying to be set on a copy of a DataFrame or Series through chained assignment using an inplace method.\n",
      "The behavior will change in pandas 3.0. This inplace method will never work because the intermediate object on which we are setting values always behaves as a copy.\n",
      "\n",
      "For example, when doing 'df[col].method(value, inplace=True)', try using 'df.method({col: value}, inplace=True)' or df[col] = df[col].method(value) instead, to perform the operation inplace on the original object.\n",
      "\n",
      "\n",
      "  df[i].fillna(moda, inplace=True)\n",
      "C:\\Users\\Julia\\AppData\\Local\\Temp\\ipykernel_18920\\2911446222.py:4: FutureWarning: Downcasting object dtype arrays on .fillna, .ffill, .bfill is deprecated and will change in a future version. Call result.infer_objects(copy=False) instead. To opt-in to the future behavior, set `pd.set_option('future.no_silent_downcasting', True)`\n",
      "  df[i].fillna(moda, inplace=True)\n"
     ]
    }
   ],
   "source": [
    "dados = df.columns[df.isna().any()]\n",
    "for i in dados:\n",
    "    moda = df[i].mode()[0]\n",
    "    df[i].fillna(moda, inplace=True)\n",
    "\n",
    "#Deletei 2 colunas com mais de 35% de valores nulos, restante eu preenchi (imputei) com moda ou média,"
   ]
  },
  {
   "cell_type": "code",
   "execution_count": 86,
   "id": "40938a23",
   "metadata": {},
   "outputs": [],
   "source": [
    "#df.groupby('age')['num'].mean().sort_values(ascending = False)"
   ]
  },
  {
   "cell_type": "code",
   "execution_count": null,
   "id": "4b6bb730",
   "metadata": {},
   "outputs": [],
   "source": [
    "df['Cardio'] = df['num'].apply(lambda x: True if x == 0 else False)\n",
    "# Criação de uma nova coluna \"doente\" e \"não doente\"\n",
    "#df.drop('cardiac', axis=1, inplace=True)\n",
    "\n",
    "def df_cardiac_levels(x):\n",
    "    if x < 130:\n",
    "        return 'Normal'\n",
    "    elif 130 <= x <= 139:\n",
    "        return 'Limítrofe'\n",
    "    elif 140 <= x <= 159:\n",
    "        return 'Leve HT'\n",
    "    elif 160 <= x <= 179:\n",
    "        return 'Moderado HT'\n",
    "    elif 180 <= x:\n",
    "        return 'Grave HT'\n",
    "\n",
    "def df_HT_cardiac(x):\n",
    "    if x < 140:\n",
    "        return 'False'\n",
    "    else:\n",
    "        return 'True'\n",
    "\n",
    "df['PAS'] = df['trestbps'].apply(df_cardiac_levels)\n",
    "df['HT'] = df['trestbps'].apply(df_HT_cardiac)\n",
    "# Criação de duas novas colunas: a) Níveis de Hipertensão PAS (Pressão Arterial Sistólica), b) Binário Hipertensão\n",
    "# Deixar link de bibliografia"
   ]
  },
  {
   "cell_type": "code",
   "execution_count": null,
   "id": "71200925",
   "metadata": {},
   "outputs": [],
   "source": [
    "# Dropei coluna 'trestbps'\n",
    "#df.drop('trestbps', axis=1, inplace=True)"
   ]
  },
  {
   "cell_type": "code",
   "execution_count": 89,
   "id": "8f3481fd",
   "metadata": {},
   "outputs": [],
   "source": [
    "def df_colest(x):\n",
    "    if x < 200:\n",
    "        return 'Normal'\n",
    "    elif x < 240:\n",
    "        return 'Limítrofe'\n",
    "    else:\n",
    "        return 'Alto'\n",
    "\n",
    "df['colest'] = df['chol'].apply(df_colest)\n",
    "#df.drop('chol', axis=1, inplace=True)\n",
    "# Criação da coluna colesterol"
   ]
  },
  {
   "cell_type": "code",
   "execution_count": 90,
   "id": "87df451f",
   "metadata": {},
   "outputs": [],
   "source": [
    "# thalach = 220 - idade\n",
    "\n",
    "df['bpm'] = df['age'].apply(lambda x: 220 - x)\n",
    "\n",
    "def df_cardiac_response(x):\n",
    "    if x['bpm']*0.85 <= x['thalch']:\n",
    "        return 'Bom'\n",
    "    elif x['bpm'] < x['thalch']:\n",
    "        return 'Acima'\n",
    "    else:\n",
    "        return 'Ruim'\n",
    "    \n",
    "df['freqCard'] = df.apply(df_cardiac_response, axis=1)"
   ]
  },
  {
   "cell_type": "code",
   "execution_count": 91,
   "id": "06246452",
   "metadata": {},
   "outputs": [],
   "source": [
    "df['FaixaEtaria'] = df['age'].apply(lambda x: 'Adulto' if x < 65 else 'Idoso')"
   ]
  },
  {
   "cell_type": "code",
   "execution_count": 92,
   "id": "ef9b8bf6",
   "metadata": {},
   "outputs": [],
   "source": [
    "#df.drop('id', axis=1, inplace=True)\n",
    "#df.drop('bpm', axis=1, inplace=True)\n",
    "#df.drop('thalch', axis=1, inplace=True)\n",
    "#df.drop('oldpeak', axis=1, inplace=True)"
   ]
  },
  {
   "cell_type": "code",
   "execution_count": 93,
   "id": "ccb3d67e",
   "metadata": {},
   "outputs": [
    {
     "name": "stdout",
     "output_type": "stream",
     "text": [
      "<class 'pandas.core.frame.DataFrame'>\n",
      "RangeIndex: 920 entries, 0 to 919\n",
      "Data columns (total 21 columns):\n",
      " #   Column       Non-Null Count  Dtype   \n",
      "---  ------       --------------  -----   \n",
      " 0   id           920 non-null    int64   \n",
      " 1   age          920 non-null    int64   \n",
      " 2   sex          920 non-null    category\n",
      " 3   dataset      920 non-null    category\n",
      " 4   cp           920 non-null    category\n",
      " 5   trestbps     920 non-null    float64 \n",
      " 6   chol         920 non-null    float64 \n",
      " 7   fbs          920 non-null    bool    \n",
      " 8   restecg      920 non-null    category\n",
      " 9   thalch       920 non-null    float64 \n",
      " 10  exang        920 non-null    bool    \n",
      " 11  oldpeak      920 non-null    float64 \n",
      " 12  slope        920 non-null    category\n",
      " 13  num          920 non-null    category\n",
      " 14  Cardio       920 non-null    category\n",
      " 15  PAS          920 non-null    category\n",
      " 16  HT           920 non-null    object  \n",
      " 17  colest       920 non-null    category\n",
      " 18  bpm          920 non-null    int64   \n",
      " 19  freqCard     920 non-null    object  \n",
      " 20  FaixaEtaria  920 non-null    category\n",
      "dtypes: bool(2), category(10), float64(4), int64(3), object(2)\n",
      "memory usage: 77.1+ KB\n"
     ]
    }
   ],
   "source": [
    "#colsBool = ['fbs', 'exang', 'Cardio', 'HT', 'freqCard']\n",
    "#df[colsBool] = df[colsBool].astype('bool')\n",
    "colsCat = ['sex', 'dataset', 'cp', 'restecg', 'slope', 'PAS', 'colest', 'num', 'FaixaEtaria', 'Cardio']\n",
    "df[colsCat] = df[colsCat].astype('category')\n",
    "df.info()\n",
    "df.to_csv('heartdiseaseAtt.csv', index=False)"
   ]
  },
  {
   "cell_type": "code",
   "execution_count": null,
   "id": "4bdbd3e9",
   "metadata": {},
   "outputs": [],
   "source": [
    "#df.to_csv('heartdiseaseAtt.csv', index=False)"
   ]
  }
 ],
 "metadata": {
  "kernelspec": {
   "display_name": "Python 3",
   "language": "python",
   "name": "python3"
  },
  "language_info": {
   "codemirror_mode": {
    "name": "ipython",
    "version": 3
   },
   "file_extension": ".py",
   "mimetype": "text/x-python",
   "name": "python",
   "nbconvert_exporter": "python",
   "pygments_lexer": "ipython3",
   "version": "3.11.0"
  }
 },
 "nbformat": 4,
 "nbformat_minor": 5
}
